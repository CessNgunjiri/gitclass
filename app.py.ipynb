{
 "cells": [
  {
   "cell_type": "code",
   "execution_count": 4,
   "id": "b825080c",
   "metadata": {},
   "outputs": [],
   "source": [
    "import streamlit as st\n",
    "import numpy as np\n",
    "import pandas as pd"
   ]
  },
  {
   "cell_type": "code",
   "execution_count": 9,
   "id": "efa881f5",
   "metadata": {},
   "outputs": [
    {
     "data": {
      "text/plain": [
       "DeltaGenerator(_root_container=0, _provided_cursor=None, _parent=None, _block_type=None, _form_data=None)"
      ]
     },
     "execution_count": 9,
     "metadata": {},
     "output_type": "execute_result"
    }
   ],
   "source": [
    "st.title('app')"
   ]
  },
  {
   "cell_type": "code",
   "execution_count": 10,
   "id": "dc008055",
   "metadata": {},
   "outputs": [
    {
     "data": {
      "text/plain": [
       "DeltaGenerator(_root_container=0, _provided_cursor=None, _parent=None, _block_type=None, _form_data=None)"
      ]
     },
     "execution_count": 10,
     "metadata": {},
     "output_type": "execute_result"
    }
   ],
   "source": [
    "st.title('app')"
   ]
  },
  {
   "cell_type": "code",
   "execution_count": 11,
   "id": "756d9e6c",
   "metadata": {},
   "outputs": [],
   "source": [
    "st.write('i love this ')"
   ]
  },
  {
   "cell_type": "code",
   "execution_count": 12,
   "id": "28d15d50",
   "metadata": {},
   "outputs": [],
   "source": [
    "st.write(pd.DataFrame({\n",
    "    'first column': [1, 2, 3, 4],\n",
    "    'second column': [10, 20, 30, 40]\n",
    "}))"
   ]
  },
  {
   "cell_type": "code",
   "execution_count": 13,
   "id": "f5360a12",
   "metadata": {},
   "outputs": [
    {
     "data": {
      "text/plain": [
       "DeltaGenerator(_root_container=0, _provided_cursor=None, _parent=None, _block_type=None, _form_data=None)"
      ]
     },
     "execution_count": 13,
     "metadata": {},
     "output_type": "execute_result"
    }
   ],
   "source": [
    "chart_data = pd.DataFrame(\n",
    "     np.random.randn(20, 3),\n",
    "     columns=['a', 'b', 'c'])\n",
    "\n",
    "st.line_chart(chart_data)\n"
   ]
  },
  {
   "cell_type": "code",
   "execution_count": 14,
   "id": "62c16f0d",
   "metadata": {},
   "outputs": [
    {
     "data": {
      "text/plain": [
       "DeltaGenerator(_root_container=0, _provided_cursor=None, _parent=None, _block_type=None, _form_data=None)"
      ]
     },
     "execution_count": 14,
     "metadata": {},
     "output_type": "execute_result"
    }
   ],
   "source": [
    "map_data = pd.DataFrame(\n",
    "    np.random.randn(1000, 2) / [50, 50] + [37.76, -122.4],\n",
    "    columns=['lat', 'lon'])\n",
    "\n",
    "st.map(map_data)\n"
   ]
  },
  {
   "cell_type": "code",
   "execution_count": 15,
   "id": "52ae4929",
   "metadata": {},
   "outputs": [],
   "source": [
    "if st.checkbox('Show dataframe'):\n",
    "    chart_data = pd.DataFrame(\n",
    "       np.random.randn(20, 3),\n",
    "       columns=['a', 'b', 'c'])\n",
    "\n",
    "    chart_data\n"
   ]
  },
  {
   "cell_type": "code",
   "execution_count": 16,
   "id": "f0552553",
   "metadata": {},
   "outputs": [
    {
     "data": {
      "text/plain": [
       "('You selected: ', 1)"
      ]
     },
     "execution_count": 16,
     "metadata": {},
     "output_type": "execute_result"
    }
   ],
   "source": [
    "df=pd.DataFrame({\n",
    "    'first column': [1, 2, 3, 4],\n",
    "    'second column': [10, 20, 30, 40]\n",
    "})\n",
    "\n",
    "option = st.selectbox('Which number do you like best?',df['first column'])\n",
    "\n",
    "'You selected: ', option"
   ]
  },
  {
   "cell_type": "code",
   "execution_count": 17,
   "id": "99b8f0cf",
   "metadata": {},
   "outputs": [
    {
     "data": {
      "text/plain": [
       "10"
      ]
     },
     "execution_count": 17,
     "metadata": {},
     "output_type": "execute_result"
    }
   ],
   "source": [
    "st.sidebar.selectbox(\n",
    "    'Which number do you like best?',\n",
    "     df['second column'])\n"
   ]
  },
  {
   "cell_type": "code",
   "execution_count": 18,
   "id": "26caa988",
   "metadata": {},
   "outputs": [],
   "source": [
    "left_column, right_column = st.beta_columns(2)\n",
    "pressed = left_column.button('Press me?')\n",
    "if pressed:\n",
    "    right_column.write(\"Woohoo!\")\n",
    "\n",
    "expander = st.beta_expander(\"FAQ\")\n",
    "expander.write(\"Here you could put in some really, really long explanations...\")\n"
   ]
  },
  {
   "cell_type": "code",
   "execution_count": 20,
   "id": "a4e83e86",
   "metadata": {},
   "outputs": [
    {
     "data": {
      "text/plain": [
       "'Starting a long computation...'"
      ]
     },
     "execution_count": 20,
     "metadata": {},
     "output_type": "execute_result"
    }
   ],
   "source": [
    "\n",
    "import time\n",
    "'Starting a long computation...'\n"
   ]
  },
  {
   "cell_type": "code",
   "execution_count": 21,
   "id": "c6783249",
   "metadata": {},
   "outputs": [
    {
     "data": {
      "text/plain": [
       "\"...and now we're done!\""
      ]
     },
     "execution_count": 21,
     "metadata": {},
     "output_type": "execute_result"
    }
   ],
   "source": [
    "latest_iteration = st.empty()\n",
    "bar = st.progress(0)\n",
    "\n",
    "for i in range(100):\n",
    "    \n",
    "  latest_iteration.text(f'Iteration {i+1}')\n",
    "  bar.progress(i + 1)\n",
    "  time.sleep(0.1)\n",
    "\n",
    "'...and now we\\'re done!'\n"
   ]
  },
  {
   "cell_type": "code",
   "execution_count": null,
   "id": "de38b89e",
   "metadata": {},
   "outputs": [],
   "source": []
  }
 ],
 "metadata": {
  "kernelspec": {
   "display_name": "Python 3 (ipykernel)",
   "language": "python",
   "name": "python3"
  },
  "language_info": {
   "codemirror_mode": {
    "name": "ipython",
    "version": 3
   },
   "file_extension": ".py",
   "mimetype": "text/x-python",
   "name": "python",
   "nbconvert_exporter": "python",
   "pygments_lexer": "ipython3",
   "version": "3.9.7"
  }
 },
 "nbformat": 4,
 "nbformat_minor": 5
}
